{
  "cells": [
    {
      "cell_type": "markdown",
      "metadata": {
        "id": "ax0idEkwwfX0"
      },
      "source": [
        "# **Contar Palabras de Documento PDF o TXT**\n",
        "\n"
      ]
    },
    {
      "cell_type": "code",
      "source": [
        "# Download Java\n",
        "!apt-get install openjdk-8-jdk-headless -qq > /dev/null\n",
        "# Next, we will install Apache Spark 3.0.1 with Hadoop 2.7 from here.\n",
        "!wget https://dlcdn.apache.org/spark/spark-3.3.2/spark-3.3.2-bin-hadoop3.tgz\n",
        "# Now, we just need to unzip that folder.\n",
        "!tar xf spark-3.3.2-bin-hadoop3.tgz\n",
        "import os\n",
        "os.environ[\"JAVA_HOME\"] = \"/usr/lib/jvm/java-8-openjdk-amd64\"\n",
        "os.environ[\"SPARK_HOME\"] = \"/content/spark-3.3.2-bin-hadoop3\"\n",
        "# Installing required packages\n",
        "!pip install pyspark\n",
        "!pip install findspark"
      ],
      "metadata": {
        "colab": {
          "base_uri": "https://localhost:8080/"
        },
        "id": "WQZjiILK44Qk",
        "outputId": "0fd402d9-94d0-4ff5-f44a-d04ce909974b"
      },
      "execution_count": null,
      "outputs": [
        {
          "output_type": "stream",
          "name": "stdout",
          "text": [
            "--2023-05-14 17:17:04--  https://dlcdn.apache.org/spark/spark-3.3.2/spark-3.3.2-bin-hadoop3.tgz\n",
            "Resolving dlcdn.apache.org (dlcdn.apache.org)... 151.101.2.132, 2a04:4e42::644\n",
            "Connecting to dlcdn.apache.org (dlcdn.apache.org)|151.101.2.132|:443... connected.\n",
            "HTTP request sent, awaiting response... 200 OK\n",
            "Length: 299360284 (285M) [application/x-gzip]\n",
            "Saving to: ‘spark-3.3.2-bin-hadoop3.tgz’\n",
            "\n",
            "spark-3.3.2-bin-had 100%[===================>] 285.49M   190MB/s    in 1.5s    \n",
            "\n",
            "2023-05-14 17:17:06 (190 MB/s) - ‘spark-3.3.2-bin-hadoop3.tgz’ saved [299360284/299360284]\n",
            "\n",
            "Looking in indexes: https://pypi.org/simple, https://us-python.pkg.dev/colab-wheels/public/simple/\n",
            "Collecting pyspark\n",
            "  Downloading pyspark-3.4.0.tar.gz (310.8 MB)\n",
            "\u001b[2K     \u001b[90m━━━━━━━━━━━━━━━━━━━━━━━━━━━━━━━━━━━━━━━\u001b[0m \u001b[32m310.8/310.8 MB\u001b[0m \u001b[31m2.8 MB/s\u001b[0m eta \u001b[36m0:00:00\u001b[0m\n",
            "\u001b[?25h  Preparing metadata (setup.py) ... \u001b[?25l\u001b[?25hdone\n",
            "Requirement already satisfied: py4j==0.10.9.7 in /usr/local/lib/python3.10/dist-packages (from pyspark) (0.10.9.7)\n",
            "Building wheels for collected packages: pyspark\n",
            "  Building wheel for pyspark (setup.py) ... \u001b[?25l\u001b[?25hdone\n",
            "  Created wheel for pyspark: filename=pyspark-3.4.0-py2.py3-none-any.whl size=311317130 sha256=d35cbb9b14b931b45cf58c156ffbae1b11763f2ff0a44ecfdfc24382cc079f15\n",
            "  Stored in directory: /root/.cache/pip/wheels/7b/1b/4b/3363a1d04368e7ff0d408e57ff57966fcdf00583774e761327\n",
            "Successfully built pyspark\n",
            "Installing collected packages: pyspark\n",
            "Successfully installed pyspark-3.4.0\n",
            "Looking in indexes: https://pypi.org/simple, https://us-python.pkg.dev/colab-wheels/public/simple/\n",
            "Collecting findspark\n",
            "  Downloading findspark-2.0.1-py2.py3-none-any.whl (4.4 kB)\n",
            "Installing collected packages: findspark\n",
            "Successfully installed findspark-2.0.1\n"
          ]
        }
      ]
    },
    {
      "cell_type": "code",
      "source": [
        "import findspark\n",
        "findspark.init()\n",
        "from pyspark import SparkContext\n",
        "sc = SparkContext()"
      ],
      "metadata": {
        "id": "bS8lRl0a9Eej"
      },
      "execution_count": null,
      "outputs": []
    },
    {
      "cell_type": "code",
      "source": [
        "# TODO: Replace <FILL IN> with appropriate code\n",
        "def wordCount(wordListRDD):\n",
        "    \n",
        "    \"\"\"Creates a pair RDD with word counts from an RDD of words.\n",
        "\n",
        "    Args:\n",
        "        wordListRDD (RDD of str): An RDD consisting of words.\n",
        "\n",
        "    Returns:\n",
        "        RDD of (str, int): An RDD consisting of (word, count) tuples.\n",
        "    \"\"\"\n",
        "    return wordListRDD.map(lambda word: (word, 1)).reduceByKey(add)"
      ],
      "metadata": {
        "id": "60HElDN18dS5"
      },
      "execution_count": null,
      "outputs": []
    },
    {
      "cell_type": "code",
      "source": [
        "# TODO: Replace <FILL IN> with appropriate code\n",
        "import re\n",
        "def removePunctuation(text):\n",
        "    \"\"\"Removes punctuation, changes to lower case, and strips leading and trailing spaces.\n",
        "\n",
        "    Note:\n",
        "        Only spaces, letters, and numbers should be retained.  Other characters should should be\n",
        "        eliminated (e.g. it's becomes its).  Leading and trailing spaces should be removed after\n",
        "        punctuation is removed.\n",
        "\n",
        "    Args:\n",
        "        text (str): A string.\n",
        "\n",
        "    Returns:\n",
        "        str: The cleaned up string.\n",
        "    \"\"\"\n",
        "    text = re.sub('[!\"#$%&\\'()*+,-./:;<=>?@[\\\\]^_`{|}~]', '', text) # Remove punctuation\n",
        "    text = text.lower()\n",
        "    text = text.strip()\n",
        "    return text"
      ],
      "metadata": {
        "id": "kGDhh5Sj4M5i"
      },
      "execution_count": null,
      "outputs": []
    },
    {
      "cell_type": "code",
      "source": [
        "import os.path\n",
        "fileName = os.path.join('texto3.txt')\n",
        "\n",
        "textoTXT_RDD = (sc\n",
        "                  .textFile(fileName, 8)\n",
        "                  .map(removePunctuation))\n",
        "#print('\\n'.join(textoTXT_RDD\n",
        "                #.zipWithIndex()  # to (line, lineNum)\n",
        "                #.map(lambda x: f'{x[1]}: {x[0]}')  # to 'lineNum: line'\n",
        "                #.take(15)))                "
      ],
      "metadata": {
        "id": "QaQF6BG630hm"
      },
      "execution_count": null,
      "outputs": []
    },
    {
      "cell_type": "code",
      "source": [
        "import os.path\n",
        "fileName = os.path.join('texto3.txt')\n",
        "\n",
        "texto = open (fileName,'r')\n",
        "textoTXT = texto.read()\n",
        "removePunctuation_textoTXT = removePunctuation(textoTXT)\n",
        "print(removePunctuation_textoTXT)"
      ],
      "metadata": {
        "id": "wFK18AtZQ5qQ",
        "colab": {
          "base_uri": "https://localhost:8080/"
        },
        "outputId": "d6f21a4f-858c-43dd-a50b-7bdffbcd22b6"
      },
      "execution_count": null,
      "outputs": [
        {
          "output_type": "stream",
          "name": "stdout",
          "text": [
            "la tecnología ha revolucionado la sociedad moderna en múltiples aspectos transformando la forma en que nos comunicamos trabajamos aprendemos y nos relacionamos desde la invención de la electricidad hasta el advenimiento de internet y los dispositivos móviles la tecnología ha tenido un impacto profundo en nuestras vidas\n",
            "\n",
            "en primer lugar la tecnología ha mejorado significativamente la comunicación la llegada del teléfono el correo electrónico las redes sociales y las aplicaciones de mensajería instantánea ha hecho posible que las personas se conecten y se comuniquen de manera rápida y eficiente sin importar la distancia que las separe la tecnología también ha permitido el surgimiento de plataformas de videoconferencia lo que facilita la colaboración y el trabajo en equipo a distancia\n",
            "\n",
            "además la tecnología ha transformado la forma en que realizamos nuestras tareas diarias en el ámbito laboral las computadoras y el software especializado han agilizado los procesos mejorando la eficiencia y la productividad la automatización de tareas repetitivas ha liberado tiempo para que las personas se centren en actividades más creativas y estratégicas asimismo la tecnología ha facilitado el acceso a la información permitiendo la búsqueda rápida y el almacenamiento de grandes volúmenes de datos\n",
            "\n",
            "la educación también ha experimentado un cambio significativo gracias a la tecnología la aparición de plataformas en línea cursos virtuales y recursos educativos digitales ha democratizado el acceso al conocimiento ahora es posible aprender prácticamente cualquier tema desde la comodidad de nuestro hogar y las tecnologías interactivas han mejorado la forma en que se enseña y se absorbe la información\n",
            "\n",
            "otro ámbito en el que la tecnología ha dejado su huella es el entretenimiento la música las películas los videojuegos y los libros electrónicos están disponibles en formatos digitales lo que ha ampliado el acceso a una amplia gama de contenido las plataformas de streaming en línea han cambiado la forma en que consumimos contenido audiovisual permitiendo a los usuarios ver películas y series en cualquier momento y lugar\n",
            "\n",
            "sin embargo el impacto de la tecnología no está exento de desafíos la dependencia excesiva de los dispositivos tecnológicos puede afectar la interacción humana cara a cara y contribuir al sedentarismo además la brecha digital plantea desigualdades en el acceso y la adopción de la tecnología entre diferentes segmentos de la población\n",
            "\n",
            "en conclusión la tecnología ha transformado nuestra sociedad en múltiples aspectos desde la comunicación hasta el trabajo la educación y el entretenimiento si bien ha generado beneficios significativos es importante hacer un uso responsable de la tecnología y abordar los desafíos que presenta para garantizar que su impacto sea positivo y equitativo en la sociedad\n"
          ]
        }
      ]
    },
    {
      "cell_type": "markdown",
      "source": [
        "#Cantidad de palabras en el TXT"
      ],
      "metadata": {
        "id": "Y4AcPU-AK7sC"
      }
    },
    {
      "cell_type": "code",
      "source": [
        "textoTXT_WordsRDD = textoTXT_RDD.flatMap(lambda x: x.split())\n",
        "textoTXT_WordsRDD = textoTXT_WordsRDD.filter(lambda x: x != '')\n",
        "textoTXT_WordCount = textoTXT_WordsRDD.count()\n",
        "print(textoTXT_WordCount)"
      ],
      "metadata": {
        "id": "fB167Kla8p_7",
        "outputId": "ffedb1d5-676c-41cd-e1b0-680636116aaa",
        "colab": {
          "base_uri": "https://localhost:8080/"
        }
      },
      "execution_count": null,
      "outputs": [
        {
          "output_type": "stream",
          "name": "stdout",
          "text": [
            "430\n"
          ]
        }
      ]
    },
    {
      "cell_type": "markdown",
      "source": [
        "#Las 15 palabras más usadas en el TXT"
      ],
      "metadata": {
        "id": "fGjzeu3LLDHn"
      }
    },
    {
      "cell_type": "code",
      "source": [
        "# TODO: Replace <FILL IN> with appropriate code\n",
        "from operator import add\n",
        "top15WordsAndCounts = wordCount(textoTXT_WordsRDD).takeOrdered(15,key = lambda x: -x[1])\n",
        "#top15WordsAndCounts = wordCount(shakeWordsRDD).top(15,key = lambda x: x[1])\n",
        "print('\\n'.join(map(lambda x: '{0}: {1}'.format(x[0], x[1]), top15WordsAndCounts)))"
      ],
      "metadata": {
        "id": "jN_XK16n8qo8",
        "colab": {
          "base_uri": "https://localhost:8080/"
        },
        "outputId": "3b25c0b8-2afa-4c82-b82d-b1283f870fe5"
      },
      "execution_count": null,
      "outputs": [
        {
          "output_type": "stream",
          "name": "stdout",
          "text": [
            "la: 41\n",
            "y: 21\n",
            "de: 19\n",
            "en: 19\n",
            "el: 16\n",
            "ha: 14\n",
            "tecnología: 12\n",
            "que: 12\n",
            "las: 9\n",
            "los: 7\n",
            "a: 6\n",
            "se: 5\n",
            "forma: 4\n",
            "acceso: 4\n",
            "impacto: 3\n"
          ]
        }
      ]
    },
    {
      "cell_type": "code",
      "source": [
        "print(top15WordsAndCounts)"
      ],
      "metadata": {
        "id": "dCrAHmaJenhy",
        "colab": {
          "base_uri": "https://localhost:8080/"
        },
        "outputId": "0b829442-7ade-43db-a120-217213ae0f9d"
      },
      "execution_count": null,
      "outputs": [
        {
          "output_type": "stream",
          "name": "stdout",
          "text": [
            "[('la', 41), ('y', 21), ('de', 19), ('en', 19), ('el', 16), ('ha', 14), ('tecnología', 12), ('que', 12), ('las', 9), ('los', 7), ('a', 6), ('se', 5), ('forma', 4), ('acceso', 4), ('impacto', 3)]\n"
          ]
        }
      ]
    },
    {
      "cell_type": "code",
      "source": [
        "diccionario = {}\n",
        "for tupla in top15WordsAndCounts:\n",
        "    clave, valor = tupla\n",
        "    diccionario[clave] = valor\n",
        "\n",
        "print(diccionario)"
      ],
      "metadata": {
        "id": "aXIZYiHPfqwp",
        "colab": {
          "base_uri": "https://localhost:8080/"
        },
        "outputId": "4c7a3d9c-fd28-425e-948b-c157502cae88"
      },
      "execution_count": null,
      "outputs": [
        {
          "output_type": "stream",
          "name": "stdout",
          "text": [
            "{'la': 41, 'y': 21, 'de': 19, 'en': 19, 'el': 16, 'ha': 14, 'tecnología': 12, 'que': 12, 'las': 9, 'los': 7, 'a': 6, 'se': 5, 'forma': 4, 'acceso': 4, 'impacto': 3}\n"
          ]
        }
      ]
    },
    {
      "cell_type": "markdown",
      "source": [
        "#Cantidad de Líneas en el TXT"
      ],
      "metadata": {
        "id": "tKLq1aoFSXXW"
      }
    },
    {
      "cell_type": "code",
      "source": [
        "textoTXT_lineas = removePunctuation_textoTXT.split('\\n',-1)\n",
        "textoTXT_lienasRDD = sc.parallelize(textoTXT_lineas, 4)\n",
        "textoTXT_lienasRDD = textoTXT_lienasRDD.filter(lambda x: x != '')\n",
        "textoTXT_lineas = textoTXT_lienasRDD.count()\n",
        "print(textoTXT_lineas)"
      ],
      "metadata": {
        "id": "T2mHoO9zMi2H",
        "colab": {
          "base_uri": "https://localhost:8080/"
        },
        "outputId": "663a9e30-a659-45d3-b724-8a317bb9183f"
      },
      "execution_count": null,
      "outputs": [
        {
          "output_type": "stream",
          "name": "stdout",
          "text": [
            "7\n"
          ]
        }
      ]
    },
    {
      "cell_type": "markdown",
      "source": [
        "#Palabras que aparecen en las diferentes líneas en el TXT"
      ],
      "metadata": {
        "id": "vPuT5fxBSlXn"
      }
    },
    {
      "cell_type": "code",
      "source": [
        "textoTXT_lienasRDD = textoTXT_lienasRDD.zipWithIndex().flatMap(lambda x: [(word,x[1]) for word in x[0].split()]).groupByKey()"
      ],
      "metadata": {
        "id": "hNFFSAJiTyp4"
      },
      "execution_count": null,
      "outputs": []
    },
    {
      "cell_type": "code",
      "source": [
        "dic = {elem[0]: list(set([value for value in elem[1]])) for elem in textoTXT_lienasRDD.collect()}\n",
        "print(dic)"
      ],
      "metadata": {
        "colab": {
          "base_uri": "https://localhost:8080/"
        },
        "id": "D98Vq2pVSjdd",
        "outputId": "13ae585a-0b98-4c3b-d6fe-97eabe9e5b9f"
      },
      "execution_count": null,
      "outputs": [
        {
          "output_type": "stream",
          "name": "stdout",
          "text": [
            "{'tecnología': [0, 1, 2, 3, 4, 5, 6], 'revolucionado': [0], 'aspectos': [0, 6], 'comunicamos': [0], 'aprendemos': [0], 'y': [0, 1, 2, 3, 4, 5, 6], 'invención': [0], 'hasta': [0, 6], 'el': [0, 1, 2, 3, 4, 5, 6], 'los': [0, 2, 4, 5, 6], 'primer': [1], 'comuniquen': [1], 'rápida': [1, 2], 'separe': [1], 'también': [1, 3], 'videoconferencia': [1], 'lo': [1, 4], 'colaboración': [1], 'trabajo': [1, 6], 'ámbito': [2, 4], 'laboral': [2], 'procesos': [2], 'mejorando': [2], 'automatización': [2], 'liberado': [2], 'actividades': [2], 'estratégicas': [2], 'asimismo': [2], 'volúmenes': [2], 'datos': [2], 'educación': [3, 6], 'experimentado': [3], 'significativo': [3], 'recursos': [3], 'educativos': [3], 'ahora': [3], 'dejado': [4], 'entretenimiento': [4, 6], 'películas': [4], 'videojuegos': [4], 'amplia': [4], 'usuarios': [4], 'momento': [4], 'no': [5], 'dependencia': [5], 'excesiva': [5], 'tecnológicos': [5], 'humana': [5], 'desigualdades': [5], 'si': [6], 'bien': [6], 'generado': [6], 'sea': [6], 'la': [0, 1, 2, 3, 4, 5, 6], 'sociedad': [0, 6], 'forma': [0, 2, 3, 4], 'trabajamos': [0], 'electricidad': [0], 'advenimiento': [0], 'impacto': [0, 5, 6], 'profundo': [0], 'lugar': [1, 4], 'mejorado': [1, 3], 'significativamente': [1], 'correo': [1], 'las': [1, 2, 3, 4], 'redes': [1], 'hecho': [1], 'se': [1, 2, 3], 'conecten': [1], 'manera': [1], 'sin': [1, 5], 'importar': [1], 'permitido': [1], 'surgimiento': [1], 'plataformas': [1, 3, 4], 'facilita': [1], 'a': [1, 2, 3, 4, 5], 'software': [2], 'han': [2, 3, 4], 'productividad': [2], 'tiempo': [2], 'búsqueda': [2], 'cambio': [3], 'gracias': [3], 'línea': [3, 4], 'cursos': [3], 'digitales': [3, 4], 'es': [3, 4, 6], 'prácticamente': [3], 'tema': [3], 'tecnologías': [3], 'interactivas': [3], 'absorbe': [3], 'otro': [4], 'disponibles': [4], 'una': [4], 'gama': [4], 'consumimos': [4], 'ver': [4], 'está': [5], 'puede': [5], 'digital': [5], 'conclusión': [6], 'nuestra': [6], 'beneficios': [6], 'importante': [6], 'hacer': [6], 'uso': [6], 'responsable': [6], 'abordar': [6], 'garantizar': [6], 'en': [0, 1, 2, 3, 4, 5, 6], 'que': [0, 1, 2, 3, 4, 6], 'internet': [0], 'móviles': [0], 'vidas': [0], 'llegada': [1], 'del': [1], 'mensajería': [1], 'instantánea': [1], 'personas': [1, 2], 'además': [2, 5], 'transformado': [2, 6], 'tareas': [2], 'especializado': [2], 'agilizado': [2], 'repetitivas': [2], 'para': [2, 6], 'centren': [2], 'creativas': [2], 'facilitado': [2], 'acceso': [2, 3, 4, 5], 'democratizado': [3], 'al': [3, 5], 'aprender': [3], 'cualquier': [3, 4], 'hogar': [3], 'enseña': [3], 'su': [4, 6], 'huella': [4], 'música': [4], 'libros': [4], 'electrónicos': [4], 'streaming': [4], 'cambiado': [4], 'series': [4], 'exento': [5], 'interacción': [5], 'contribuir': [5], 'sedentarismo': [5], 'brecha': [5], 'plantea': [5], 'diferentes': [5], 'positivo': [6], 'equitativo': [6], 'ha': [0, 1, 2, 3, 4, 6], 'moderna': [0], 'múltiples': [0, 6], 'transformando': [0], 'nos': [0], 'relacionamos': [0], 'desde': [0, 3, 6], 'de': [0, 1, 2, 3, 4, 5, 6], 'dispositivos': [0, 5], 'tenido': [0], 'un': [0, 3, 6], 'nuestras': [0, 2], 'comunicación': [1, 6], 'teléfono': [1], 'electrónico': [1], 'sociales': [1], 'aplicaciones': [1], 'posible': [1, 3], 'eficiente': [1], 'distancia': [1], 'equipo': [1], 'realizamos': [2], 'diarias': [2], 'computadoras': [2], 'eficiencia': [2], 'más': [2], 'información': [2, 3], 'permitiendo': [2, 4], 'almacenamiento': [2], 'grandes': [2], 'aparición': [3], 'virtuales': [3], 'conocimiento': [3], 'comodidad': [3], 'nuestro': [3], 'están': [4], 'formatos': [4], 'ampliado': [4], 'contenido': [4], 'audiovisual': [4], 'embargo': [5], 'desafíos': [5, 6], 'afectar': [5], 'cara': [5], 'adopción': [5], 'entre': [5], 'segmentos': [5], 'población': [5], 'significativos': [6], 'presenta': [6]}\n"
          ]
        }
      ]
    },
    {
      "cell_type": "markdown",
      "source": [
        "#Creación del Archivo para Guardar el JSON"
      ],
      "metadata": {
        "id": "AKUsI3ZBVZBo"
      }
    },
    {
      "cell_type": "code",
      "source": [
        "d = {\"Npalabras\": textoTXT_WordCount, \"15palabras\":diccionario, \"Nlineas\": textoTXT_lineas, \"Diccionario\":dic}"
      ],
      "metadata": {
        "id": "6Hvo7Sy7fzvP"
      },
      "execution_count": null,
      "outputs": []
    },
    {
      "cell_type": "code",
      "source": [
        "import json\n",
        "datosJSON = json.dumps(d,ensure_ascii=False)"
      ],
      "metadata": {
        "id": "wU0hOkq9gZiA"
      },
      "execution_count": null,
      "outputs": []
    },
    {
      "cell_type": "code",
      "source": [
        "with open(\"archivoTXT3.txt\",'w') as f:\n",
        "  f.write(datosJSON)"
      ],
      "metadata": {
        "id": "s3VNTWZaiYL9"
      },
      "execution_count": null,
      "outputs": []
    }
  ],
  "metadata": {
    "colab": {
      "provenance": []
    },
    "kernelspec": {
      "display_name": "dip",
      "language": "python",
      "name": "python3"
    },
    "language_info": {
      "codemirror_mode": {
        "name": "ipython",
        "version": 3
      },
      "file_extension": ".py",
      "mimetype": "text/x-python",
      "name": "python",
      "nbconvert_exporter": "python",
      "pygments_lexer": "ipython3",
      "version": "3.9.6"
    },
    "vscode": {
      "interpreter": {
        "hash": "2ee78bf6d3c55ab8d976b00cd533f0c8b1f102162595d6dc238528d9a3be5ad3"
      }
    }
  },
  "nbformat": 4,
  "nbformat_minor": 0
}