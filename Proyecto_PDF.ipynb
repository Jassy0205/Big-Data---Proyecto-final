{
  "cells": [
    {
      "cell_type": "markdown",
      "metadata": {
        "id": "ax0idEkwwfX0"
      },
      "source": [
        "# **Contar Palabras de Documento PDF o TXT**"
      ]
    },
    {
      "cell_type": "code",
      "source": [
        "# Download Java\n",
        "!apt-get install openjdk-8-jdk-headless -qq > /dev/null\n",
        "# Next, we will install Apache Spark 3.0.1 with Hadoop 2.7 from here.\n",
        "!wget https://dlcdn.apache.org/spark/spark-3.3.2/spark-3.3.2-bin-hadoop3.tgz\n",
        "# Now, we just need to unzip that folder.\n",
        "!tar xf spark-3.3.2-bin-hadoop3.tgz\n",
        "import os\n",
        "os.environ[\"JAVA_HOME\"] = \"/usr/lib/jvm/java-8-openjdk-amd64\"\n",
        "os.environ[\"SPARK_HOME\"] = \"/content/spark-3.3.2-bin-hadoop3\"\n",
        "# Installing required packages\n",
        "!pip install pyspark\n",
        "!pip install findspark"
      ],
      "metadata": {
        "colab": {
          "base_uri": "https://localhost:8080/"
        },
        "id": "WQZjiILK44Qk",
        "outputId": "72517af9-4e96-4fd2-8240-3c8c36e9713e"
      },
      "execution_count": null,
      "outputs": [
        {
          "output_type": "stream",
          "name": "stdout",
          "text": [
            "--2023-05-16 17:11:10--  https://dlcdn.apache.org/spark/spark-3.3.2/spark-3.3.2-bin-hadoop3.tgz\n",
            "Resolving dlcdn.apache.org (dlcdn.apache.org)... 151.101.2.132, 2a04:4e42::644\n",
            "Connecting to dlcdn.apache.org (dlcdn.apache.org)|151.101.2.132|:443... connected.\n",
            "HTTP request sent, awaiting response... 200 OK\n",
            "Length: 299360284 (285M) [application/x-gzip]\n",
            "Saving to: ‘spark-3.3.2-bin-hadoop3.tgz.1’\n",
            "\n",
            "spark-3.3.2-bin-had 100%[===================>] 285.49M   186MB/s    in 1.5s    \n",
            "\n",
            "2023-05-16 17:11:12 (186 MB/s) - ‘spark-3.3.2-bin-hadoop3.tgz.1’ saved [299360284/299360284]\n",
            "\n",
            "Looking in indexes: https://pypi.org/simple, https://us-python.pkg.dev/colab-wheels/public/simple/\n",
            "Requirement already satisfied: pyspark in /usr/local/lib/python3.10/dist-packages (3.4.0)\n",
            "Requirement already satisfied: py4j==0.10.9.7 in /usr/local/lib/python3.10/dist-packages (from pyspark) (0.10.9.7)\n",
            "Looking in indexes: https://pypi.org/simple, https://us-python.pkg.dev/colab-wheels/public/simple/\n",
            "Requirement already satisfied: findspark in /usr/local/lib/python3.10/dist-packages (2.0.1)\n"
          ]
        }
      ]
    },
    {
      "cell_type": "code",
      "source": [
        "!pip install PyPDF2"
      ],
      "metadata": {
        "colab": {
          "base_uri": "https://localhost:8080/"
        },
        "id": "LzXuRqwDGpEG",
        "outputId": "8bf04555-42e3-413a-b5de-fca851abd846"
      },
      "execution_count": null,
      "outputs": [
        {
          "output_type": "stream",
          "name": "stdout",
          "text": [
            "Looking in indexes: https://pypi.org/simple, https://us-python.pkg.dev/colab-wheels/public/simple/\n",
            "Collecting PyPDF2\n",
            "  Downloading pypdf2-3.0.1-py3-none-any.whl (232 kB)\n",
            "\u001b[2K     \u001b[90m━━━━━━━━━━━━━━━━━━━━━━━━━━━━━━━━━━━━━━━\u001b[0m \u001b[32m232.6/232.6 kB\u001b[0m \u001b[31m8.4 MB/s\u001b[0m eta \u001b[36m0:00:00\u001b[0m\n",
            "\u001b[?25hInstalling collected packages: PyPDF2\n",
            "Successfully installed PyPDF2-3.0.1\n"
          ]
        }
      ]
    },
    {
      "cell_type": "code",
      "source": [
        "from PyPDF2 import PdfReader\n",
        "  \n",
        "# creating a pdf reader object\n",
        "reader = PdfReader('textos.pdf')\n",
        "  \n",
        "# printing number of pages in pdf file\n",
        "print(len(reader.pages))\n",
        "  \n",
        "# getting a specific page from the pdf file\n",
        "page = reader.pages[0]\n",
        "  \n",
        "# extracting text from page\n",
        "pdf = page.extract_text()\n",
        "print(pdf)"
      ],
      "metadata": {
        "colab": {
          "base_uri": "https://localhost:8080/"
        },
        "id": "V79Zpyg9Dqci",
        "outputId": "b9348788-89d1-43b9-cbc3-24c6ea509374"
      },
      "execution_count": null,
      "outputs": [
        {
          "output_type": "stream",
          "name": "stdout",
          "text": [
            "1\n",
            "abía una vez tres hermanos cerditos que vivían en el bosque. Como el malvado lobo siempre los \n",
            "estaba persiguiendo para comérselos dijo un día el mayor:  \n",
            " \n",
            "- Tenemos que hacer una casa para protegernos de lobo. Así podremos escondernos dentro de ella \n",
            "cada vez que el lobo aparezca por aquí.  \n",
            " \n",
            "A los otros dos les pareció muy buena idea, pero no se ponían de acuerdo respecto a qué material \n",
            "utilizar. Al final, y p ara no discutir, decidieron que cada uno la hiciera de lo que quisiese.  \n",
            " \n",
            "El más pequeño optó por utilizar paja, para no tardar mucho y poder irse a jugar después.  \n",
            " \n",
            "El mediano prefirió construirla de madera, que era más resistente que la paja y tampoco le l levaría \n",
            "mucho tiempo hacerla. Pero el mayor pensó que aunque tardara más que sus hermanos, lo mejor \n",
            "era hacer una casa resistente y fuerte con ladrillos.  \n"
          ]
        }
      ]
    },
    {
      "cell_type": "code",
      "source": [
        "# TODO: Replace <FILL IN> with appropriate code\n",
        "def wordCount(wordListRDD):\n",
        "    \n",
        "    \"\"\"Creates a pair RDD with word counts from an RDD of words.\n",
        "\n",
        "    Args:\n",
        "        wordListRDD (RDD of str): An RDD consisting of words.\n",
        "\n",
        "    Returns:\n",
        "        RDD of (str, int): An RDD consisting of (word, count) tuples.\n",
        "    \"\"\"\n",
        "    return wordListRDD.map(lambda word: (word, 1)).reduceByKey(add)"
      ],
      "metadata": {
        "id": "60HElDN18dS5"
      },
      "execution_count": null,
      "outputs": []
    },
    {
      "cell_type": "code",
      "source": [
        "# TODO: Replace <FILL IN> with appropriate code\n",
        "import re\n",
        "def removePunctuation(text):\n",
        "    \"\"\"Removes punctuation, changes to lower case, and strips leading and trailing spaces.\n",
        "\n",
        "    Note:\n",
        "        Only spaces, letters, and numbers should be retained.  Other characters should should be\n",
        "        eliminated (e.g. it's becomes its).  Leading and trailing spaces should be removed after\n",
        "        punctuation is removed.\n",
        "\n",
        "    Args:\n",
        "        text (str): A string.\n",
        "\n",
        "    Returns:\n",
        "        str: The cleaned up string.\n",
        "    \"\"\"\n",
        "    text = re.sub('[!\"#$%&\\'()*+,-./:;<=>?@[\\\\]^_`{|}~]', '', text) # Remove punctuation\n",
        "    text = text.lower()\n",
        "    text = text.strip()\n",
        "    return text\n"
      ],
      "metadata": {
        "id": "kGDhh5Sj4M5i"
      },
      "execution_count": null,
      "outputs": []
    },
    {
      "cell_type": "code",
      "source": [
        "import findspark\n",
        "findspark.init()"
      ],
      "metadata": {
        "id": "bS8lRl0a9Eej"
      },
      "execution_count": null,
      "outputs": []
    },
    {
      "cell_type": "code",
      "source": [
        "from pyspark import SparkContext\n",
        "sc = SparkContext()"
      ],
      "metadata": {
        "id": "jq-mlQin4bRd"
      },
      "execution_count": null,
      "outputs": []
    },
    {
      "cell_type": "code",
      "source": [
        "def wordCount(wordListRDD):\n",
        "    \n",
        "    \"\"\"Creates a pair RDD with word counts from an RDD of words.\n",
        "\n",
        "    Args:\n",
        "        wordListRDD (RDD of str): An RDD consisting of words.\n",
        "\n",
        "    Returns:\n",
        "        RDD of (str, int): An RDD consisting of (word, count) tuples.\n",
        "    \"\"\"\n",
        "    return wordListRDD.map(lambda word: (word, 1)).reduceByKey(add)"
      ],
      "metadata": {
        "id": "wXTwEISc_ejw"
      },
      "execution_count": null,
      "outputs": []
    },
    {
      "cell_type": "markdown",
      "source": [
        "#Catidad de Palabras en el PDF\n"
      ],
      "metadata": {
        "id": "2gv8b_TvFCb_"
      }
    },
    {
      "cell_type": "code",
      "source": [
        "Rpdf = removePunctuation(pdf)\n",
        "words = Rpdf.split()\n",
        "wordsRDD = sc.parallelize(words, 4)\n",
        "coteo = wordsRDD.count()\n",
        "print(coteo)"
      ],
      "metadata": {
        "id": "LlwBT0e87BsX",
        "colab": {
          "base_uri": "https://localhost:8080/"
        },
        "outputId": "2932b0eb-d7a9-4c71-eee4-ef0c3e63ba11"
      },
      "execution_count": null,
      "outputs": [
        {
          "output_type": "stream",
          "name": "stdout",
          "text": [
            "146\n"
          ]
        }
      ]
    },
    {
      "cell_type": "markdown",
      "source": [
        "#Las 15 palabras más usadas en el PDF"
      ],
      "metadata": {
        "id": "iUfcgbv1ZmJ7"
      }
    },
    {
      "cell_type": "code",
      "source": [
        "# TODO: Replace <FILL IN> with appropriate code\n",
        "from operator import add\n",
        "top15WordsAndCounts = wordCount(wordsRDD).takeOrdered(15,key = lambda x: -x[1])\n",
        "#top15WordsAndCounts = wordCount(shakeWordsRDD).top(15,key = lambda x: x[1])\n",
        "print('\\n'.join(map(lambda x: '{0}: {1}'.format(x[0], x[1]), top15WordsAndCounts)))"
      ],
      "metadata": {
        "id": "jN_XK16n8qo8",
        "colab": {
          "base_uri": "https://localhost:8080/"
        },
        "outputId": "a18f1d17-5245-410a-8fe9-17fa72dacf6a"
      },
      "execution_count": null,
      "outputs": [
        {
          "output_type": "stream",
          "name": "stdout",
          "text": [
            "que: 9\n",
            "el: 7\n",
            "de: 5\n",
            "y: 4\n",
            "no: 3\n",
            "una: 3\n",
            "a: 3\n",
            "lobo: 3\n",
            "para: 3\n",
            "más: 3\n",
            "hermanos: 2\n",
            "los: 2\n",
            "lo: 2\n",
            "mucho: 2\n",
            "resistente: 2\n"
          ]
        }
      ]
    },
    {
      "cell_type": "code",
      "source": [
        "print(top15WordsAndCounts)"
      ],
      "metadata": {
        "colab": {
          "base_uri": "https://localhost:8080/"
        },
        "id": "i3gd2Gl4atYJ",
        "outputId": "d9e13307-1b40-451a-e9a6-44616deced61"
      },
      "execution_count": null,
      "outputs": [
        {
          "output_type": "stream",
          "name": "stdout",
          "text": [
            "[('que', 9), ('el', 7), ('de', 5), ('y', 4), ('no', 3), ('una', 3), ('a', 3), ('lobo', 3), ('para', 3), ('más', 3), ('hermanos', 2), ('los', 2), ('lo', 2), ('mucho', 2), ('resistente', 2)]\n"
          ]
        }
      ]
    },
    {
      "cell_type": "code",
      "source": [
        "diccionario = {}\n",
        "for tupla in top15WordsAndCounts:\n",
        "    clave, valor = tupla\n",
        "    diccionario[clave] = valor\n",
        "\n",
        "print(diccionario)"
      ],
      "metadata": {
        "colab": {
          "base_uri": "https://localhost:8080/"
        },
        "id": "I8z3pOAFarMp",
        "outputId": "e03bd76a-1700-4f2a-b43d-5599bf0a3745"
      },
      "execution_count": null,
      "outputs": [
        {
          "output_type": "stream",
          "name": "stdout",
          "text": [
            "{'que': 9, 'el': 7, 'de': 5, 'y': 4, 'no': 3, 'una': 3, 'a': 3, 'lobo': 3, 'para': 3, 'más': 3, 'hermanos': 2, 'los': 2, 'lo': 2, 'mucho': 2, 'resistente': 2}\n"
          ]
        }
      ]
    },
    {
      "cell_type": "markdown",
      "source": [
        "# Catidad de Líneas en el PDF"
      ],
      "metadata": {
        "id": "dwXsJrXBK5Cr"
      }
    },
    {
      "cell_type": "code",
      "source": [
        "lineas = Rpdf.split('\\n',-1)\n",
        "lienasRDD = sc.parallelize(lineas, 4)\n",
        "lienasRDD = lienasRDD.filter(lambda x: x != ' ')\n",
        "lienasRDD_texto = lienasRDD.count()\n",
        "print(lienasRDD_texto)\n",
        "lienasRDD = lienasRDD.zipWithIndex().flatMap(lambda x: [(word,x[1]) for word in x[0].split()]).groupByKey()"
      ],
      "metadata": {
        "id": "_uiqAFB4K9ak",
        "colab": {
          "base_uri": "https://localhost:8080/"
        },
        "outputId": "18d327bb-6984-4a24-c737-8bfc1206f80a"
      },
      "execution_count": null,
      "outputs": [
        {
          "output_type": "stream",
          "name": "stdout",
          "text": [
            "10\n"
          ]
        }
      ]
    },
    {
      "cell_type": "markdown",
      "source": [
        "#Palabras que aparecen en las diferentes líneas en el PDF"
      ],
      "metadata": {
        "id": "IMeNSPBWaEz9"
      }
    },
    {
      "cell_type": "code",
      "source": [
        "diccionario = {}\n",
        "for tupla in top15WordsAndCounts:\n",
        "    clave, valor = tupla\n",
        "    diccionario[clave] = valor\n",
        "\n",
        "print(diccionario)"
      ],
      "metadata": {
        "id": "t_hztIt5tElt"
      },
      "execution_count": null,
      "outputs": []
    },
    {
      "cell_type": "code",
      "source": [
        "dic = {elem[0]: list(set([value for value in elem[1]])) for elem in lienasRDD.collect()}\n",
        "print(dic)"
      ],
      "metadata": {
        "id": "IfD-iPl9gMHW",
        "colab": {
          "base_uri": "https://localhost:8080/"
        },
        "outputId": "6487f3f6-b952-4d3b-b7dd-2bdde4a5e66b"
      },
      "execution_count": null,
      "outputs": [
        {
          "output_type": "stream",
          "name": "stdout",
          "text": [
            "{'hermanos': [0, 8], 'el': [0, 1, 3, 6, 7, 8], 'como': [0], 'los': [0, 4], 'escondernos': [2], 'aquí': [3], 'idea': [4], 'no': [4, 5, 6], 'qué': [4], 'y': [9, 5, 6, 7], 'p': [5], 'ara': [5], 'lo': [8, 5], 'quisiese': [5], 'optó': [6], 'mucho': [8, 6], 'resistente': [9, 7], 'le': [7], 'l': [7], 'levaría': [7], 'hacerla': [8], 'pensó': [8], 'sus': [8], 'mejor': [8], 'con': [9], 'abía': [0], 'una': [0, 9, 2], 'persiguiendo': [1], 'mayor': [8, 1], 'tenemos': [2], 'hacer': [9, 2], 'dentro': [2], 'ella': [2], 'por': [3, 6], 'a': [4, 6], 'buena': [4], 'se': [4], 'respecto': [4], 'la': [5, 7], 'hiciera': [5], 'pequeño': [6], 'después': [6], 'prefirió': [7], 'era': [9, 7], 'tiempo': [8], 'aunque': [8], 'tardara': [8], 'vez': [0, 3], 'tres': [0], 'cerditos': [0], 'que': [0, 2, 3, 5, 7, 8], 'vivían': [0], 'en': [0], 'malvado': [0], 'lobo': [0, 2, 3], 'estaba': [1], 'para': [1, 2, 6], 'comérselos': [1], 'así': [2], 'cada': [3, 5], 'aparezca': [3], 'les': [4], 'pero': [8, 4], 'ponían': [4], 'material': [4], 'utilizar': [5, 6], 'al': [5], 'decidieron': [5], 'paja': [6, 7], 'poder': [6], 'jugar': [6], 'ladrillos': [9], 'bosque': [0], 'siempre': [0], 'dijo': [1], 'un': [1], 'día': [1], 'casa': [9, 2], 'protegernos': [2], 'de': [2, 4, 5, 7], 'podremos': [2], 'otros': [4], 'dos': [4], 'pareció': [4], 'muy': [4], 'acuerdo': [4], 'final': [5], 'discutir': [5], 'uno': [5], 'más': [8, 6, 7], 'tardar': [6], 'irse': [6], 'mediano': [7], 'construirla': [7], 'madera': [7], 'tampoco': [7], 'fuerte': [9]}\n"
          ]
        }
      ]
    },
    {
      "cell_type": "markdown",
      "source": [
        "#Creación del Archivo para Guardar el JSON"
      ],
      "metadata": {
        "id": "ZgYn8posaL50"
      }
    },
    {
      "cell_type": "code",
      "source": [
        "d = {\"Npalabras\": coteo, \"15palabras\":diccionario, \"Nlineas\": lienasRDD_texto, \"Diccionario\":dic}"
      ],
      "metadata": {
        "id": "6Hvo7Sy7fzvP"
      },
      "execution_count": null,
      "outputs": []
    },
    {
      "cell_type": "code",
      "source": [
        "import json\n",
        "datosJSON = json.dumps(d,ensure_ascii=False)"
      ],
      "metadata": {
        "id": "wU0hOkq9gZiA"
      },
      "execution_count": null,
      "outputs": []
    },
    {
      "cell_type": "code",
      "source": [
        "with open(\"archivoPDF3.txt\",'w') as f:\n",
        "  f.write(datosJSON)"
      ],
      "metadata": {
        "id": "s3VNTWZaiYL9"
      },
      "execution_count": null,
      "outputs": []
    }
  ],
  "metadata": {
    "colab": {
      "provenance": []
    },
    "kernelspec": {
      "display_name": "dip",
      "language": "python",
      "name": "python3"
    },
    "language_info": {
      "codemirror_mode": {
        "name": "ipython",
        "version": 3
      },
      "file_extension": ".py",
      "mimetype": "text/x-python",
      "name": "python",
      "nbconvert_exporter": "python",
      "pygments_lexer": "ipython3",
      "version": "3.9.6"
    },
    "vscode": {
      "interpreter": {
        "hash": "2ee78bf6d3c55ab8d976b00cd533f0c8b1f102162595d6dc238528d9a3be5ad3"
      }
    }
  },
  "nbformat": 4,
  "nbformat_minor": 0
}